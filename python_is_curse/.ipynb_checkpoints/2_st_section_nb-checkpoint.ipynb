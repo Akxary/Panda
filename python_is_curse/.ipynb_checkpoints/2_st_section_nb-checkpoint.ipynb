{
 "cells": [
  {
   "cell_type": "code",
   "execution_count": 5,
   "id": "d84f9541",
   "metadata": {},
   "outputs": [],
   "source": [
    "class Name:\n",
    "    def __init__(self, first_name: str, last_name: str):\n",
    "        self.first_name = first_name.title()\n",
    "        self.last_name = last_name.title()\n",
    "        self.full_name = self.first_name + \" \" + self.last_name\n",
    "        self.initials = self.first_name[0] + \".\" + self.last_name[0]\n",
    "    def pr_atr(self):\n",
    "        print(self.first_name, self.last_name, self.full_name, self.initials, sep='\\n')"
   ]
  },
  {
   "cell_type": "code",
   "execution_count": 6,
   "id": "0c915f6e",
   "metadata": {},
   "outputs": [
    {
     "name": "stdout",
     "output_type": "stream",
     "text": [
      "John\n",
      "Smith\n",
      "John Smith\n",
      "J.S\n"
     ]
    }
   ],
   "source": [
    "Name('john', 'SMITH').pr_atr()"
   ]
  },
  {
   "cell_type": "code",
   "execution_count": 8,
   "id": "d68e09af",
   "metadata": {},
   "outputs": [],
   "source": [
    "class Calculator:\n",
    "    def __init__(self, *args):\n",
    "        self.l, self.r = args\n",
    "    def add(self):\n",
    "        return self.l + self.r\n",
    "    def substract(self):\n",
    "        return self.l - self.r\n",
    "    def multiply(self):\n",
    "        return self.l * self.r\n",
    "    def divide(self):\n",
    "        return self.l / self.r"
   ]
  },
  {
   "cell_type": "code",
   "execution_count": 10,
   "id": "99472469",
   "metadata": {},
   "outputs": [
    {
     "data": {
      "text/plain": [
       "50"
      ]
     },
     "execution_count": 10,
     "metadata": {},
     "output_type": "execute_result"
    }
   ],
   "source": [
    "Calculator(10, 5).multiply()"
   ]
  },
  {
   "cell_type": "code",
   "execution_count": 19,
   "id": "3fd4ead9",
   "metadata": {},
   "outputs": [],
   "source": [
    "class Employee:\n",
    "    def __init__(self, first_name: str, last_name: str, salary: str):\n",
    "        self.first_name = first_name.title()\n",
    "        self.last_name = last_name.title()\n",
    "        self.salary = int(salary)\n",
    "    @classmethod\n",
    "    def from_string(cls, full: str):\n",
    "        return cls(*full.split('-'))"
   ]
  },
  {
   "cell_type": "code",
   "execution_count": 21,
   "id": "5a0eb926",
   "metadata": {},
   "outputs": [
    {
     "name": "stdout",
     "output_type": "stream",
     "text": [
      "Mary\n",
      "60000\n",
      "John\n",
      "55000\n"
     ]
    }
   ],
   "source": [
    "emp1 = Employee('Mary', 'Sue', 60000)\n",
    "emp2 = Employee.from_string('John-Smith-55000')\n",
    "print(emp1.first_name, emp1.salary, emp2.first_name, emp2.salary, sep='\\n')"
   ]
  },
  {
   "cell_type": "code",
   "execution_count": 28,
   "id": "61560bf6",
   "metadata": {},
   "outputs": [],
   "source": [
    "class Pizza:\n",
    "    order_number = 0\n",
    "    def __init__(self, ingr: list):\n",
    "        Pizza.order_number += 1\n",
    "        self.order_number = Pizza.order_number\n",
    "        self.ingredients = ingr\n",
    "    @classmethod\n",
    "    def garden_feast(cls):\n",
    "        return cls(['spinach', 'olives', 'mushroom'])\n",
    "    @classmethod\n",
    "    def hawaiian(cls):\n",
    "        return cls(['ham', 'pineapple'])\n",
    "    @classmethod\n",
    "    def meat_festival(cls):\n",
    "        return cls(['beef', 'meatball', 'bacon'])"
   ]
  },
  {
   "cell_type": "code",
   "execution_count": 31,
   "id": "d344ca97",
   "metadata": {},
   "outputs": [
    {
     "name": "stdout",
     "output_type": "stream",
     "text": [
      "['bacon', 'parmesan', 'ham']\n",
      "['spinach', 'olives', 'mushroom']\n",
      "5\n",
      "6\n"
     ]
    }
   ],
   "source": [
    "p1 = Pizza(['bacon', 'parmesan', 'ham'])   # order 1\n",
    "p2 = Pizza.garden_feast()                  # order 2\n",
    "print (p1.ingredients, p2.ingredients, p1.order_number, p2.order_number, sep='\\n')"
   ]
  },
  {
   "cell_type": "code",
   "execution_count": 32,
   "id": "f3363ae8",
   "metadata": {},
   "outputs": [],
   "source": [
    "import math\n",
    "class Circle:\n",
    "    def __init__(self, r):\n",
    "        self.r = r\n",
    "    def get_area(self):\n",
    "        return math.pi * math.pow(self.r, 2)\n",
    "    def get_perimeter(self):\n",
    "        return 2 * math.pi * self.r"
   ]
  },
  {
   "cell_type": "code",
   "execution_count": 33,
   "id": "d2dbd7aa",
   "metadata": {},
   "outputs": [
    {
     "name": "stdout",
     "output_type": "stream",
     "text": [
      "area = 314.1592653589793\n",
      "perimeter = 62.83185307179586\n"
     ]
    }
   ],
   "source": [
    "circle = Circle(10)\n",
    "print('area = {}\\nperimeter = {}'.format(circle.get_area(), circle.get_perimeter()))"
   ]
  },
  {
   "cell_type": "code",
   "execution_count": 49,
   "id": "d7a867bc",
   "metadata": {},
   "outputs": [],
   "source": [
    "class Beverage:\n",
    "    ingredients_price ={\n",
    "        \"Strawberries\": 1.50,\n",
    "        \"Banana\": 0.50,\n",
    "        \"Mango\": 2.50,\n",
    "        \"Blueberries\": 1.00,\n",
    "        \"Raspberries\": 1.00,\n",
    "        \"Apples\": 1.75,\n",
    "        \"Pineapple\": 3.50\n",
    "    }\n",
    "    def __init__(self, ing: list):\n",
    "        self.ingredients = ing\n",
    "        self.ingredients.sort()\n",
    "    def get_cost(self):\n",
    "        return \"$\"+str(sum([self.ingredients_price[i] for i in self.ingredients]))\n",
    "    def get_price(self):\n",
    "        return \"$\"+str(float(self.get_cost()[1:]) * 2.5)\n",
    "    def get_name(self):\n",
    "        return \" \".join(self.ingredients).replace('berries', 'berry') + \" Fusion\" if len(self.ingredients) > 1 else self.ingredients[0] + ' Smoothie'"
   ]
  },
  {
   "cell_type": "code",
   "execution_count": 51,
   "id": "1549bb7e",
   "metadata": {},
   "outputs": [
    {
     "name": "stdout",
     "output_type": "stream",
     "text": [
      "['Banana']\n",
      "$0.5\n",
      "$1.25\n",
      "Banana Smoothie\n",
      "['Blueberries', 'Raspberries', 'Strawberries']\n",
      "$3.5\n",
      "$8.75\n",
      "Blueberry Raspberry Strawberry Fusion\n"
     ]
    }
   ],
   "source": [
    "s1 = Beverage([\"Banana\"])\n",
    "s2 = Beverage([\"Raspberries\", \"Strawberries\", \"Blueberries\"])\n",
    "print(s1.ingredients, s1.get_cost(), s1.get_price(), s1.get_name(),\n",
    "      s2.ingredients, s2.get_cost(), s2.get_price(), s2.get_name(), sep='\\n')"
   ]
  },
  {
   "cell_type": "code",
   "execution_count": 97,
   "id": "21614835",
   "metadata": {},
   "outputs": [
    {
     "name": "stdout",
     "output_type": "stream",
     "text": [
      " | | \n",
      "_ _ _\n",
      " | | \n",
      "_ _ _\n",
      " | | \n",
      "Ходит X\n",
      "Введите число от 0 до 8: 0\n",
      "X| | \n",
      "_ _ _\n",
      " | | \n",
      "_ _ _\n",
      " | | \n",
      "Ходит O\n",
      "Введите число от 0 до 8: 1\n",
      "X|O| \n",
      "_ _ _\n",
      " | | \n",
      "_ _ _\n",
      " | | \n",
      "Ходит X\n",
      "Введите число от 0 до 8: 4\n",
      "X|O| \n",
      "_ _ _\n",
      " |X| \n",
      "_ _ _\n",
      " | | \n",
      "Ходит O\n",
      "Введите число от 0 до 8: 5\n",
      "X|O| \n",
      "_ _ _\n",
      " |X|O\n",
      "_ _ _\n",
      " | | \n",
      "Ходит X\n",
      "Введите число от 0 до 8: 8\n",
      "X|O| \n",
      "_ _ _\n",
      " |X|O\n",
      "_ _ _\n",
      " | |X\n",
      "winner is X\n"
     ]
    }
   ],
   "source": [
    "import numpy as np\n",
    "class Field:\n",
    "    field = np.zeros(9).reshape(3, 3)\n",
    "    turn = 1\n",
    "    winner = 'tie'\n",
    "    @classmethod\n",
    "    def change_field(cls, pos: int):\n",
    "        pos = np.unravel_index(pos,(3,3))\n",
    "        if cls.field[pos] == 0:\n",
    "            cls.field[pos] = cls.turn\n",
    "            cls.winner_check(pos)\n",
    "            cls.turn = -1 if cls.turn == 1 else 1\n",
    "        else:\n",
    "            print(f'Kлетка {np.unravel_index(pos,(3,3))} занята, выберите другую')\n",
    "    @classmethod\n",
    "    def winner_check(cls, pos):\n",
    "        to_c = cls.turn * 3\n",
    "        s_str = sum ([cls.field[i, pos[1]] for i in range(3)])\n",
    "        s_col = sum ([cls.field[pos[0], i] for i in range(3)])\n",
    "        s_diag = 0\n",
    "        if pos[0] == pos [1]:\n",
    "            if pos[0] == 1:\n",
    "                s_d_1 = sum(cls.field[i, i] for i in range(3))\n",
    "                s_d_2 = sum(cls.field[2-i,2-i] for i in range(3))\n",
    "                s_diag = s_d_1 if s_d_1 == to_c else s_d_2 if s_d_2 == to_c else 0\n",
    "            elif pos in [(0,0), (2,2)]:\n",
    "                s_diag = sum(cls.field[i, i] for i in range(3))\n",
    "            else:\n",
    "                s_diag = sum(cls.field[2-i,2-i] for i in range(3))\n",
    "        if s_str == to_c or s_col == to_c or s_diag == to_c:\n",
    "            cls.winner = cls.to_str(cls.turn)\n",
    "    @staticmethod\n",
    "    def to_str(num: str):\n",
    "        return \"X\" if num == 1 else \"O\" if num == -1 else \" \"\n",
    "    @classmethod\n",
    "    def print_field(cls):\n",
    "        for i in range(3):\n",
    "            print(*[cls.to_str(cls.field[i][j]) for j in range(3)], sep='|')\n",
    "            if i != 2:\n",
    "                print(\"_\",\"_\",\"_\", sep=' ')\n",
    "\n",
    "while any(Field.field[i][j] == 0 for i in range(3) for j in range(3)) and Field.winner == 'tie':\n",
    "    s_turn = 'X' if Field.turn == 1 else \"O\"\n",
    "    Field.print_field()\n",
    "    print('Ходит {}'.format(s_turn))\n",
    "    u_turn = int(input('Введите число от 0 до 8: '))\n",
    "    Field.change_field(u_turn)\n",
    "Field.print_field()\n",
    "print('winner is {}'.format(Field.winner))"
   ]
  }
 ],
 "metadata": {
  "kernelspec": {
   "display_name": "Python 3 (ipykernel)",
   "language": "python",
   "name": "python3"
  },
  "language_info": {
   "codemirror_mode": {
    "name": "ipython",
    "version": 3
   },
   "file_extension": ".py",
   "mimetype": "text/x-python",
   "name": "python",
   "nbconvert_exporter": "python",
   "pygments_lexer": "ipython3",
   "version": "3.11.0"
  }
 },
 "nbformat": 4,
 "nbformat_minor": 5
}
