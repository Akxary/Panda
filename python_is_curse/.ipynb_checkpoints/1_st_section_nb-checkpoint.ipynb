{
 "cells": [
  {
   "cell_type": "code",
   "execution_count": 5,
   "id": "d654bba2",
   "metadata": {},
   "outputs": [],
   "source": [
    "numbers = [1, 3, 5, 4]"
   ]
  },
  {
   "cell_type": "code",
   "execution_count": 6,
   "id": "1d02d66d",
   "metadata": {},
   "outputs": [
    {
     "data": {
      "text/plain": [
       "[1, 3, 4, 5]"
      ]
     },
     "execution_count": 6,
     "metadata": {},
     "output_type": "execute_result"
    }
   ],
   "source": [
    "numbers.sort()\n",
    "numbers.append()"
   ]
  },
  {
   "cell_type": "code",
   "execution_count": 7,
   "id": "7276e769",
   "metadata": {},
   "outputs": [],
   "source": [
    "set1 =  {1, 2, 3, 4, 5}\n",
    "set2 = {1, 3, 5, 6}"
   ]
  },
  {
   "cell_type": "code",
   "execution_count": 11,
   "id": "06eb20a5",
   "metadata": {},
   "outputs": [
    {
     "data": {
      "text/plain": [
       "{2, 4}"
      ]
     },
     "execution_count": 11,
     "metadata": {},
     "output_type": "execute_result"
    }
   ],
   "source": [
    "set1 - set2"
   ]
  },
  {
   "cell_type": "code",
   "execution_count": 23,
   "id": "015d9c14",
   "metadata": {},
   "outputs": [
    {
     "data": {
      "text/plain": [
       "1"
      ]
     },
     "execution_count": 23,
     "metadata": {},
     "output_type": "execute_result"
    }
   ],
   "source": [
    "x = numbers[3]\n",
    "'xss'.index('ss')"
   ]
  },
  {
   "cell_type": "code",
   "execution_count": 15,
   "id": "10e7efb1",
   "metadata": {},
   "outputs": [
    {
     "data": {
      "text/plain": [
       "1"
      ]
     },
     "execution_count": 15,
     "metadata": {},
     "output_type": "execute_result"
    }
   ],
   "source": [
    "True + False"
   ]
  },
  {
   "cell_type": "code",
   "execution_count": 16,
   "id": "d24fc0bc",
   "metadata": {},
   "outputs": [
    {
     "data": {
      "text/plain": [
       "2"
      ]
     },
     "execution_count": 16,
     "metadata": {},
     "output_type": "execute_result"
    }
   ],
   "source": [
    "True+True+False"
   ]
  },
  {
   "cell_type": "code",
   "execution_count": 21,
   "id": "e67d868e",
   "metadata": {},
   "outputs": [
    {
     "name": "stdout",
     "output_type": "stream",
     "text": [
      "Попытка 1. Вводи число, кожаный ублюдок: 25\n",
      "Моё число больше\n",
      "Попытка 2. Вводи число, кожаный ублюдок: 40\n",
      "Моё число меньше\n",
      "Попытка 3. Вводи число, кожаный ублюдок: 35\n",
      "Моё число больше\n",
      "Попытка 4. Вводи число, кожаный ублюдок: 37\n",
      "Моё число больше\n",
      "Попытка 5. Вводи число, кожаный ублюдок: 38\n",
      "Кожаный ублюдок угадал\n"
     ]
    }
   ],
   "source": [
    "import random\n",
    "number = random.randint(1, 50)\n",
    "try_counter = 0\n",
    "while try_counter < 6:\n",
    "    gess = int(input(f'Попытка {try_counter+1}. Вводи число, кожаный ублюдок: '))\n",
    "    if gess == number:\n",
    "        print('Кожаный ублюдок угадал')\n",
    "        break\n",
    "    elif gess < number:\n",
    "        print ('Моё число больше')\n",
    "    elif gess > number:\n",
    "        print ('Моё число меньше')\n",
    "    try_counter += 1\n",
    "if try_counter == 6:\n",
    "    print ('Кожаный ублюдок проиграл, я загадывал {}'.format(number))"
   ]
  },
  {
   "cell_type": "code",
   "execution_count": 22,
   "id": "301d7f36",
   "metadata": {},
   "outputs": [
    {
     "name": "stdout",
     "output_type": "stream",
     "text": [
      "Pass R - камень, S - ножницы или P - бумага: R\n",
      "ничья\n",
      "Ещё партию? Y/N: Y\n",
      "Pass R - камень, S - ножницы или P - бумага: S\n",
      "игрок победил, и: ножницы, к: бумага\n",
      "Ещё партию? Y/N: Y\n",
      "Pass R - камень, S - ножницы или P - бумага: P\n",
      "игрок победил, и: бумага, к: камень\n",
      "Ещё партию? Y/N: Y\n",
      "Pass R - камень, S - ножницы или P - бумага: S\n",
      "ничья\n",
      "Ещё партию? Y/N: Y\n",
      "Pass R - камень, S - ножницы или P - бумага: R\n",
      "игрок победил, и: камень, к: ножницы\n",
      "Ещё партию? Y/N: Y\n",
      "Pass R - камень, S - ножницы или P - бумага: R\n",
      "игрок победил, и: камень, к: ножницы\n",
      "Ещё партию? Y/N: Y\n",
      "Pass R - камень, S - ножницы или P - бумага: R\n",
      "ничья\n",
      "Ещё партию? Y/N: Y\n",
      "Pass R - камень, S - ножницы или P - бумага: R\n",
      "компьютер победил, и: камень, к: бумага\n",
      "Ещё партию? Y/N: N\n"
     ]
    }
   ],
   "source": [
    "comp_des_m = {1: 'R', 2: 'S', 3: 'P'}\n",
    "user_desire = True\n",
    "def winner(x, y) -> str:\n",
    "    if x == 'R':\n",
    "        if y == 'R':\n",
    "            return 'ничья'\n",
    "        elif y == 'S':\n",
    "            return \"игрок победил, и: камень, к: ножницы\"\n",
    "        elif y == 'P':\n",
    "            return \"компьютер победил, и: камень, к: бумага\"\n",
    "    elif x == 'S':\n",
    "        if y == 'R':\n",
    "            return \"компьютер победил, и: ножницы, к: камень\"\n",
    "        elif y == 'S':\n",
    "            return 'ничья'\n",
    "        elif y == 'P':\n",
    "            return \"игрок победил, и: ножницы, к: бумага\"\n",
    "    elif x == 'P':\n",
    "        if y == 'R':\n",
    "            return \"игрок победил, и: бумага, к: камень\"\n",
    "        elif y == 'S':\n",
    "            return \"компьютер победил, и: бумага, к: ножницы\"\n",
    "        elif y == 'P':\n",
    "            return 'ничья'\n",
    "    \n",
    "while user_desire:\n",
    "    user_des = input ('Pass R - камень, S - ножницы или P - бумага: ')\n",
    "    comp_des = comp_des_m[random.randint(1, 3)]\n",
    "    print(winner(user_des, comp_des))\n",
    "    user_d = input ('Ещё партию? Y/N: ')\n",
    "    if user_d == 'Y':\n",
    "        user_desire = True\n",
    "    else:\n",
    "        user_desire = False\n",
    "    "
   ]
  },
  {
   "cell_type": "code",
   "execution_count": 28,
   "id": "ea9f0fd1",
   "metadata": {},
   "outputs": [
    {
     "name": "stdout",
     "output_type": "stream",
     "text": [
      "Количество палочек: 20\n",
      "Выберите количество палочек от 1 до 3, но не больше текущего 20. Ходит Alice:3\n",
      "Выберите количество палочек от 1 до 3, но не больше текущего 17. Ходит Bob:3\n",
      "Выберите количество палочек от 1 до 3, но не больше текущего 14. Ходит Alice:3\n",
      "Выберите количество палочек от 1 до 3, но не больше текущего 11. Ходит Bob:3\n",
      "Выберите количество палочек от 1 до 3, но не больше текущего 8. Ходит Alice:3\n",
      "Выберите количество палочек от 1 до 3, но не больше текущего 5. Ходит Bob:3\n",
      "Выберите количество палочек от 1 до 3, но не больше текущего 2. Ходит Alice:2\n",
      "Победил Bob\n"
     ]
    }
   ],
   "source": [
    "def change_player (cur_pl: str):\n",
    "    return 'Bob' if cur_pl == 'Alice' else 'Alice'\n",
    "\n",
    "n = int(input('Количество палочек: '))\n",
    "curr_pl = 'Alice'\n",
    "while n > 0:\n",
    "    ch = int(input(f'Выберите количество палочек от 1 до 3, но не больше текущего {n}. Ходит {curr_pl}:'))\n",
    "    n = n - ch\n",
    "    curr_pl = change_player(curr_pl)\n",
    "print ('Победил {}'.format (curr_pl))"
   ]
  },
  {
   "cell_type": "code",
   "execution_count": null,
   "id": "07828206",
   "metadata": {},
   "outputs": [],
   "source": []
  }
 ],
 "metadata": {
  "kernelspec": {
   "display_name": "Python 3 (ipykernel)",
   "language": "python",
   "name": "python3"
  },
  "language_info": {
   "codemirror_mode": {
    "name": "ipython",
    "version": 3
   },
   "file_extension": ".py",
   "mimetype": "text/x-python",
   "name": "python",
   "nbconvert_exporter": "python",
   "pygments_lexer": "ipython3",
   "version": "3.11.0"
  }
 },
 "nbformat": 4,
 "nbformat_minor": 5
}
